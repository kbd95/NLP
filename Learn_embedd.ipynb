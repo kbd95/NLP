{
  "nbformat": 4,
  "nbformat_minor": 0,
  "metadata": {
    "colab": {
      "name": "Learn_embedd.ipynb",
      "provenance": [],
      "authorship_tag": "ABX9TyObosXUMPvhtZgoQ2WnWi5Y",
      "include_colab_link": true
    },
    "kernelspec": {
      "name": "python3",
      "display_name": "Python 3"
    }
  },
  "cells": [
    {
      "cell_type": "markdown",
      "metadata": {
        "id": "view-in-github",
        "colab_type": "text"
      },
      "source": [
        "<a href=\"https://colab.research.google.com/github/kbd95/NLP/blob/master/Learn_embedd.ipynb\" target=\"_parent\"><img src=\"https://colab.research.google.com/assets/colab-badge.svg\" alt=\"Open In Colab\"/></a>"
      ]
    },
    {
      "cell_type": "markdown",
      "metadata": {
        "id": "Uk4AfrQhpPiU",
        "colab_type": "text"
      },
      "source": [
        "**Learning an Embedding**"
      ]
    },
    {
      "cell_type": "code",
      "metadata": {
        "id": "FoZzSrx1qwDR",
        "colab_type": "code",
        "colab": {}
      },
      "source": [
        "from numpy import array\n",
        "from numpy import asarray\n",
        "from numpy import zeros\n",
        "from keras.preprocessing.text import Tokenizer\n",
        "from keras.preprocessing.sequence import pad_sequences\n",
        "from keras.models import Sequential\n",
        "from keras.layers import Dense\n",
        "from keras.layers import Flatten\n",
        "from keras.layers import Embedding\n",
        "from tensorflow.keras.preprocessing.text import one_hot"
      ],
      "execution_count": 21,
      "outputs": []
    },
    {
      "cell_type": "code",
      "metadata": {
        "id": "uFF2Nyg4o5Y0",
        "colab_type": "code",
        "colab": {}
      },
      "source": [
        "#define document\n",
        "docs = [\"Well done\",\n",
        "        \"Good work\",\n",
        "        \"Great effort\",\n",
        "        \"nice work\",\n",
        "        \"Excellent\",\n",
        "        \"Weak\",\n",
        "        \"poor effort\",\n",
        "        \"not good\",\n",
        "        \"poor work\",\n",
        "        \"Could have done better.\"]\n",
        "#define class labels\n",
        "label = array([1,1,1,1,1,0,0,0,0,0])        "
      ],
      "execution_count": 22,
      "outputs": []
    },
    {
      "cell_type": "code",
      "metadata": {
        "id": "GqO3OiNzMuhA",
        "colab_type": "code",
        "colab": {
          "base_uri": "https://localhost:8080/",
          "height": 53
        },
        "outputId": "5449575b-da6c-4b53-cf1e-a3c89abe465e"
      },
      "source": [
        "#integer encode the document\n",
        "vocab_size = 50\n",
        "encoded_docs = [one_hot(d,vocab_size) for d in docs]\n",
        "print(encoded_docs)"
      ],
      "execution_count": 23,
      "outputs": [
        {
          "output_type": "stream",
          "text": [
            "[[38, 31], [39, 45], [8, 43], [17, 45], [40], [41], [12, 43], [15, 39], [12, 45], [16, 8, 31, 14]]\n"
          ],
          "name": "stdout"
        }
      ]
    },
    {
      "cell_type": "code",
      "metadata": {
        "id": "GBS8cniTQHcb",
        "colab_type": "code",
        "colab": {
          "base_uri": "https://localhost:8080/",
          "height": 183
        },
        "outputId": "615ed9b8-14d0-4fee-a882-b157bac3fbef"
      },
      "source": [
        "# pad documents to a max length of 4 words\n",
        "max_length =4\n",
        "padded_docs = pad_sequences(encoded_docs,maxlen=max_length,padding=\"post\")\n",
        "print(padded_docs)"
      ],
      "execution_count": 24,
      "outputs": [
        {
          "output_type": "stream",
          "text": [
            "[[38 31  0  0]\n",
            " [39 45  0  0]\n",
            " [ 8 43  0  0]\n",
            " [17 45  0  0]\n",
            " [40  0  0  0]\n",
            " [41  0  0  0]\n",
            " [12 43  0  0]\n",
            " [15 39  0  0]\n",
            " [12 45  0  0]\n",
            " [16  8 31 14]]\n"
          ],
          "name": "stdout"
        }
      ]
    },
    {
      "cell_type": "code",
      "metadata": {
        "id": "cdYXzqeqS8EN",
        "colab_type": "code",
        "colab": {
          "base_uri": "https://localhost:8080/",
          "height": 53
        },
        "outputId": "79305f95-fd4f-456f-c424-448244fdd101"
      },
      "source": [
        "#define the model\n",
        "model = Sequential()\n",
        "model.add(Embedding(vocab_size,8,input_length=max_length))\n",
        "model.add(Flatten())\n",
        "\n",
        "model.add(Dense(1,activation=\"sigmoid\"))\n",
        "\n",
        "#compile the model\n",
        "model.compile(optimizer=\"adam\",loss=\"binary_crossentropy\",metrics=[\"accuracy\"])\n",
        "#summarize the model\n",
        "print(model.summary)\n"
      ],
      "execution_count": 25,
      "outputs": [
        {
          "output_type": "stream",
          "text": [
            "<bound method Network.summary of <keras.engine.sequential.Sequential object at 0x7fc303961a90>>\n"
          ],
          "name": "stdout"
        }
      ]
    },
    {
      "cell_type": "code",
      "metadata": {
        "id": "_V9xT5q1ZZV5",
        "colab_type": "code",
        "colab": {
          "base_uri": "https://localhost:8080/",
          "height": 86
        },
        "outputId": "f00a707c-8acb-4ce8-cd80-1978ddcc54c4"
      },
      "source": [
        "#fit the model\n",
        "model.fit(padded_docs,label,epochs=50,verbose=0)\n",
        "\n",
        "#evaluate the model\n",
        "loss,accuracy = model.evaluate(padded_docs,label,verbose=0)\n",
        "print(\"Accuracy: %f\" % (accuracy*100))"
      ],
      "execution_count": 26,
      "outputs": [
        {
          "output_type": "stream",
          "text": [
            "/usr/local/lib/python3.6/dist-packages/tensorflow/python/framework/indexed_slices.py:434: UserWarning: Converting sparse IndexedSlices to a dense Tensor of unknown shape. This may consume a large amount of memory.\n",
            "  \"Converting sparse IndexedSlices to a dense Tensor of unknown shape. \"\n"
          ],
          "name": "stderr"
        },
        {
          "output_type": "stream",
          "text": [
            "Accuracy: 80.000001\n"
          ],
          "name": "stdout"
        }
      ]
    },
    {
      "cell_type": "code",
      "metadata": {
        "id": "4wr19DjSRjS6",
        "colab_type": "code",
        "colab": {}
      },
      "source": [
        ""
      ],
      "execution_count": null,
      "outputs": []
    }
  ]
}