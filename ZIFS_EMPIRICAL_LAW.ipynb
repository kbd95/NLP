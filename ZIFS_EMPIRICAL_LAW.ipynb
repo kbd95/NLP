{
 "cells": [
  {
   "cell_type": "markdown",
   "metadata": {},
   "source": [
    "# ZIF'S EMPIRACAL LAW"
   ]
  },
  {
   "cell_type": "code",
   "execution_count": 23,
   "metadata": {},
   "outputs": [],
   "source": [
    "import re\n",
    "from operator import itemgetter\n",
    "import nltk\n",
    "import pandas as pd"
   ]
  },
  {
   "cell_type": "code",
   "execution_count": 28,
   "metadata": {},
   "outputs": [],
   "source": [
    "frequency = {}\n",
    "words_emma = nltk.Text(nltk.corpus.gutenberg.words(\"austen-emma.txt\"))\n",
    "\n",
    "for word in words_emma:\n",
    "    count = frequency.get(word,0)\n",
    "    frequency[word] = count+1"
   ]
  },
  {
   "cell_type": "code",
   "execution_count": 29,
   "metadata": {},
   "outputs": [],
   "source": [
    "rank = 1\n",
    "column_header = [\"Rank\",\"Frequency\",\"Frequency*Rank\"]\n",
    "df= pd.DataFrame(columns = column_header)\n",
    "\n",
    "for word, freq in reversed(sorted(frequency.items(),key=itemgetter(1))):\n",
    "    df.loc[word] = [rank,freq,rank*freq]\n",
    "    rank = rank+1"
   ]
  },
  {
   "cell_type": "code",
   "execution_count": 30,
   "metadata": {},
   "outputs": [
    {
     "name": "stdout",
     "output_type": "stream",
     "text": [
      "            Rank Frequency Frequency*Rank\n",
      ",              1     11454          11454\n",
      ".              2      6928          13856\n",
      "to             3      5183          15549\n",
      "the            4      4844          19376\n",
      "and            5      4672          23360\n",
      "...          ...       ...            ...\n",
      "indistinct  7807         1           7807\n",
      "vex         7808         1           7808\n",
      "]           7809         1           7809\n",
      "1816        7810         1           7810\n",
      "Austen      7811         1           7811\n",
      "\n",
      "[7811 rows x 3 columns]\n"
     ]
    }
   ],
   "source": [
    "print(df)"
   ]
  },
  {
   "cell_type": "code",
   "execution_count": null,
   "metadata": {},
   "outputs": [],
   "source": []
  }
 ],
 "metadata": {
  "kernelspec": {
   "display_name": "Python 3",
   "language": "python",
   "name": "python3"
  },
  "language_info": {
   "codemirror_mode": {
    "name": "ipython",
    "version": 3
   },
   "file_extension": ".py",
   "mimetype": "text/x-python",
   "name": "python",
   "nbconvert_exporter": "python",
   "pygments_lexer": "ipython3",
   "version": "3.7.8"
  }
 },
 "nbformat": 4,
 "nbformat_minor": 4
}
