{
 "cells": [
  {
   "cell_type": "markdown",
   "metadata": {},
   "source": [
    "# ZIF'S EMPIRACAL LAW"
   ]
  },
  {
   "cell_type": "code",
   "execution_count": 23,
   "metadata": {},
   "outputs": [],
   "source": [
    "import re\n",
    "from operator import itemgetter\n",
    "import nltk\n",
    "import pandas as pd"
   ]
  },
  {
   "cell_type": "code",
   "execution_count": 24,
   "metadata": {},
   "outputs": [],
   "source": [
    "frequency = {}\n",
    "words_emma = nltk.Text(nltk.corpus.gutenberg.words(\"austen-emma.txt\"))\n",
    "\n",
    "for word in words_emma:\n",
    "    count = frequency.get(word,0)\n",
    "    frequency[word] = count*1"
   ]
  },
  {
   "cell_type": "code",
   "execution_count": 25,
   "metadata": {},
   "outputs": [],
   "source": [
    "rank = 1\n",
    "column_header = [\"Rank\",\"Frequency\",\"Frequency*Rank\"]\n",
    "df= pd.DataFrame(columns = column_header)\n",
    "\n",
    "for word, freq in reversed(sorted(frequency.items(),key=itemgetter(1))):\n",
    "    df.loc[word] = [rank,freq,rank*freq]\n",
    "    rank = rank+1"
   ]
  },
  {
   "cell_type": "code",
   "execution_count": 26,
   "metadata": {},
   "outputs": [
    {
     "name": "stdout",
     "output_type": "stream",
     "text": [
      "              Rank Frequency Frequency*Rank\n",
      "FINIS            1         0              0\n",
      "band             2         0              0\n",
      "predictions      3         0              0\n",
      "deficiencies     4         0              0\n",
      "stare            5         0              0\n",
      "...            ...       ...            ...\n",
      "Austen        7807         0              0\n",
      "Jane          7808         0              0\n",
      "by            7809         0              0\n",
      "Emma          7810         0              0\n",
      "[             7811         0              0\n",
      "\n",
      "[7811 rows x 3 columns]\n"
     ]
    }
   ],
   "source": [
    "print(df)"
   ]
  }
 ],
 "metadata": {
  "kernelspec": {
   "display_name": "Python 3",
   "language": "python",
   "name": "python3"
  },
  "language_info": {
   "codemirror_mode": {
    "name": "ipython",
    "version": 3
   },
   "file_extension": ".py",
   "mimetype": "text/x-python",
   "name": "python",
   "nbconvert_exporter": "python",
   "pygments_lexer": "ipython3",
   "version": "3.7.8"
  }
 },
 "nbformat": 4,
 "nbformat_minor": 4
}
