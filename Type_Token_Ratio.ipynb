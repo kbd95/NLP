{
 "cells": [
  {
   "cell_type": "code",
   "execution_count": 41,
   "metadata": {},
   "outputs": [],
   "source": [
    "import nltk\n",
    "from nltk.corpus import stopwords"
   ]
  },
  {
   "cell_type": "code",
   "execution_count": 42,
   "metadata": {},
   "outputs": [
    {
     "data": {
      "text/plain": [
       "['austen-emma.txt',\n",
       " 'austen-persuasion.txt',\n",
       " 'austen-sense.txt',\n",
       " 'bible-kjv.txt',\n",
       " 'blake-poems.txt',\n",
       " 'bryant-stories.txt',\n",
       " 'burgess-busterbrown.txt',\n",
       " 'carroll-alice.txt',\n",
       " 'chesterton-ball.txt',\n",
       " 'chesterton-brown.txt',\n",
       " 'chesterton-thursday.txt',\n",
       " 'edgeworth-parents.txt',\n",
       " 'melville-moby_dick.txt',\n",
       " 'milton-paradise.txt',\n",
       " 'shakespeare-caesar.txt',\n",
       " 'shakespeare-hamlet.txt',\n",
       " 'shakespeare-macbeth.txt',\n",
       " 'whitman-leaves.txt']"
      ]
     },
     "execution_count": 42,
     "metadata": {},
     "output_type": "execute_result"
    }
   ],
   "source": [
    "nltk.corpus.gutenberg.fileids()"
   ]
  },
  {
   "cell_type": "code",
   "execution_count": 43,
   "metadata": {},
   "outputs": [],
   "source": [
    "# get the stopwords for english\n",
    "\n",
    "stop_words = set(stopwords.words(\"english\"))\n",
    "Words_brynat = nltk.Text(nltk.corpus.gutenberg.words(\"bryant-stories.txt\"))\n",
    "Words_emma = nltk.Text(nltk.corpus.gutenberg.words(\"austen-emma.txt\"))"
   ]
  },
  {
   "cell_type": "code",
   "execution_count": 45,
   "metadata": {},
   "outputs": [],
   "source": [
    "# Convert to small letyers\n",
    "\n",
    "Words_brynat = [word.lower() for word in Words_Shake if word.isalpha()]\n",
    "\n",
    "Words_emma = [word.lower() for word in Words_emma if word.isalpha()]"
   ]
  },
  {
   "cell_type": "code",
   "execution_count": 46,
   "metadata": {},
   "outputs": [],
   "source": [
    "# Remove stopwords\n",
    "Words_brynat = [word.lower() for word in Words_brynat if word not in stop_words][:15000]\n",
    "Words_emma = [word.lower() for word in Words_emma if word not in stop_words][:15000]"
   ]
  },
  {
   "cell_type": "code",
   "execution_count": 50,
   "metadata": {},
   "outputs": [],
   "source": [
    "TTR_brynat = len(set(Words_brynat))/len(Words_brynat)\n",
    "TTR_emma= len(set(Words_emma))/len(Words_emma)"
   ]
  },
  {
   "cell_type": "code",
   "execution_count": 64,
   "metadata": {},
   "outputs": [
    {
     "name": "stdout",
     "output_type": "stream",
     "text": [
      "Number of tokens (bryant-stories) = 10078\n",
      "Number of tokens (austen-emma) = 15000\n"
     ]
    }
   ],
   "source": [
    "print(\"Number of tokens (bryant-stories) =\",len(Words_brynat))\n",
    "print(\"Number of tokens (austen-emma) =\",len(Words_emma))"
   ]
  },
  {
   "cell_type": "code",
   "execution_count": 65,
   "metadata": {},
   "outputs": [
    {
     "name": "stdout",
     "output_type": "stream",
     "text": [
      "Vocabulry (bryant-stories) = 3340\n",
      "Vocabulry (austen-emma) = 3274\n"
     ]
    }
   ],
   "source": [
    "print(\"Vocabulry (bryant-stories) =\",len(set(Words_brynat)))\n",
    "print(\"Vocabulry (austen-emma) =\",len(set(Words_emma)))"
   ]
  },
  {
   "cell_type": "code",
   "execution_count": 66,
   "metadata": {},
   "outputs": [
    {
     "name": "stdout",
     "output_type": "stream",
     "text": [
      "Type-token ratio (bryant-stories) =  0.3314149632863663\n",
      "Type-token ratio (austen-emma) =  0.21826666666666666\n"
     ]
    }
   ],
   "source": [
    "print(\"Type-token ratio (bryant-stories) = \",TTR_brynat)\n",
    "print(\"Type-token ratio (austen-emma) = \",TTR_emma)\n"
   ]
  }
 ],
 "metadata": {
  "kernelspec": {
   "display_name": "Python 3",
   "language": "python",
   "name": "python3"
  },
  "language_info": {
   "codemirror_mode": {
    "name": "ipython",
    "version": 3
   },
   "file_extension": ".py",
   "mimetype": "text/x-python",
   "name": "python",
   "nbconvert_exporter": "python",
   "pygments_lexer": "ipython3",
   "version": "3.7.8"
  }
 },
 "nbformat": 4,
 "nbformat_minor": 4
}
