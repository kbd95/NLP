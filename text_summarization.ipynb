{
  "nbformat": 4,
  "nbformat_minor": 0,
  "metadata": {
    "colab": {
      "name": "text_summarization.ipynb",
      "provenance": [],
      "authorship_tag": "ABX9TyOFiG/vMbb25v73f8OlNX0j",
      "include_colab_link": true
    },
    "kernelspec": {
      "name": "python3",
      "display_name": "Python 3"
    }
  },
  "cells": [
    {
      "cell_type": "markdown",
      "metadata": {
        "id": "view-in-github",
        "colab_type": "text"
      },
      "source": [
        "<a href=\"https://colab.research.google.com/github/kbd95/NLP/blob/master/text_summarization.ipynb\" target=\"_parent\"><img src=\"https://colab.research.google.com/assets/colab-badge.svg\" alt=\"Open In Colab\"/></a>"
      ]
    },
    {
      "cell_type": "code",
      "metadata": {
        "id": "oPLrGfVlylaM"
      },
      "source": [
        "# Load pkgs\n",
        "import spacy"
      ],
      "execution_count": 25,
      "outputs": []
    },
    {
      "cell_type": "code",
      "metadata": {
        "id": "LDhZZhlGyrXr"
      },
      "source": [
        "# Text preprocessing pkg\n",
        "from spacy.lang.en.stop_words import STOP_WORDS\n",
        "from string import punctuation"
      ],
      "execution_count": 26,
      "outputs": []
    },
    {
      "cell_type": "code",
      "metadata": {
        "id": "RsdBAKvGy8dL"
      },
      "source": [
        "# Build a list of Stopwords\n",
        "stopwords = list(STOP_WORDS)"
      ],
      "execution_count": 27,
      "outputs": []
    },
    {
      "cell_type": "code",
      "metadata": {
        "id": "uMoWORIWzL8c"
      },
      "source": [
        "text =\"\"\"Machine learning (ML) is the scientific study of algorithms and statistical models \n",
        "that computer systems use to progressively improve their performance on a specific task. Machine \n",
        "learning algorithms build a mathematical model of sample data, known as \"training data\", in order\n",
        " to make predictions or decisions without being explicitly programmed to perform the task. Machine \n",
        " learning algorithms are used in the applications of email filtering, detection of network intruders, \n",
        " and computer vision, where it is infeasible to develop an algorithm of specific instructions for \n",
        " performing the task. Machine learning is closely related to computational statistics, which focuses\n",
        "  on making predictions using computers. The study of mathematical optimization delivers methods,\n",
        "   theory and application domains to the field of machine learning. Data mining is a field of study \n",
        "   within machine learning, and focuses on exploratory data analysis through unsupervised learning.\n",
        "   In its application across business problems, machine learning is also referred to as predictive analytics.\"\"\"\n"
      ],
      "execution_count": 28,
      "outputs": []
    },
    {
      "cell_type": "code",
      "metadata": {
        "id": "ZvdeeYn3zYbn"
      },
      "source": [
        "document2 = \"\"\"Our Father who art in heaven, hallowed be thy name. Thy kingdom come.\n",
        " Thy will be done, on earth as it is in heaven. Give us this day our daily bread; \n",
        " and forgive us our trespasses, as we forgive those who trespass against us; and lead\n",
        "  us not into temptation, but deliver us from evil\n",
        "\"\"\""
      ],
      "execution_count": 5,
      "outputs": []
    },
    {
      "cell_type": "code",
      "metadata": {
        "id": "jdBKh5-Tz4Db"
      },
      "source": [
        "nlp = spacy.load(\"en\")"
      ],
      "execution_count": 6,
      "outputs": []
    },
    {
      "cell_type": "code",
      "metadata": {
        "id": "5yMU71Muz_RQ"
      },
      "source": [
        "# Build an NLP Object\n",
        "docx = nlp(text)"
      ],
      "execution_count": 33,
      "outputs": []
    },
    {
      "cell_type": "code",
      "metadata": {
        "id": "h9UImR5W12kR"
      },
      "source": [
        "#Tokenization of Text\n",
        "mytokens = [token.text for token in docx]"
      ],
      "execution_count": 34,
      "outputs": []
    },
    {
      "cell_type": "code",
      "metadata": {
        "colab": {
          "base_uri": "https://localhost:8080/"
        },
        "id": "l1JtKJaE1444",
        "outputId": "488ed7a1-8743-4800-ab2e-2528663074d6"
      },
      "source": [
        "print(mytokens)"
      ],
      "execution_count": 35,
      "outputs": [
        {
          "output_type": "stream",
          "text": [
            "['Machine', 'learning', '(', 'ML', ')', 'is', 'the', 'scientific', 'study', 'of', 'algorithms', 'and', 'statistical', 'models', '\\n', 'that', 'computer', 'systems', 'use', 'to', 'progressively', 'improve', 'their', 'performance', 'on', 'a', 'specific', 'task', '.', 'Machine', '\\n', 'learning', 'algorithms', 'build', 'a', 'mathematical', 'model', 'of', 'sample', 'data', ',', 'known', 'as', '\"', 'training', 'data', '\"', ',', 'in', 'order', '\\n ', 'to', 'make', 'predictions', 'or', 'decisions', 'without', 'being', 'explicitly', 'programmed', 'to', 'perform', 'the', 'task', '.', 'Machine', '\\n ', 'learning', 'algorithms', 'are', 'used', 'in', 'the', 'applications', 'of', 'email', 'filtering', ',', 'detection', 'of', 'network', 'intruders', ',', '\\n ', 'and', 'computer', 'vision', ',', 'where', 'it', 'is', 'infeasible', 'to', 'develop', 'an', 'algorithm', 'of', 'specific', 'instructions', 'for', '\\n ', 'performing', 'the', 'task', '.', 'Machine', 'learning', 'is', 'closely', 'related', 'to', 'computational', 'statistics', ',', 'which', 'focuses', '\\n  ', 'on', 'making', 'predictions', 'using', 'computers', '.', 'The', 'study', 'of', 'mathematical', 'optimization', 'delivers', 'methods', ',', '\\n   ', 'theory', 'and', 'application', 'domains', 'to', 'the', 'field', 'of', 'machine', 'learning', '.', 'Data', 'mining', 'is', 'a', 'field', 'of', 'study', '\\n   ', 'within', 'machine', 'learning', ',', 'and', 'focuses', 'on', 'exploratory', 'data', 'analysis', 'through', 'unsupervised', 'learning', '.', '\\n   ', 'In', 'its', 'application', 'across', 'business', 'problems', ',', 'machine', 'learning', 'is', 'also', 'referred', 'to', 'as', 'predictive', 'analytics', '.']\n"
          ],
          "name": "stdout"
        }
      ]
    },
    {
      "cell_type": "code",
      "metadata": {
        "id": "bwMeb7TD3QqE"
      },
      "source": [
        "#punctuation = punctuation + \"\\n\"\n",
        "#punctuation"
      ],
      "execution_count": 36,
      "outputs": []
    },
    {
      "cell_type": "markdown",
      "metadata": {
        "id": "sH3KzQUi4MKX"
      },
      "source": [
        "**Word Frequncy Table**\n",
        "> dictionary of words and their counts\n",
        "\n",
        "> How many times each word appears in the document\n",
        "\n",
        "> Using non-stopwords"
      ]
    },
    {
      "cell_type": "code",
      "metadata": {
        "id": "MrgnNzQY4DJM"
      },
      "source": [
        "# Build word frequency\n",
        "# word.text is tokenization in spacy\n",
        "\n",
        "word_frequency = {}\n",
        "for word in docx:\n",
        "  if word.text not in stopwords:\n",
        "    if word.text not in word_frequency.keys():\n",
        "      word_frequency[word.text] = 1\n",
        "    else:\n",
        "      word_frequency[word.text] += 1"
      ],
      "execution_count": 37,
      "outputs": []
    },
    {
      "cell_type": "code",
      "metadata": {
        "colab": {
          "base_uri": "https://localhost:8080/"
        },
        "id": "cZtEK5Ri33R3",
        "outputId": "dc3c79c2-4190-416b-89dd-e03f9334def4"
      },
      "source": [
        "print(word_frequency)"
      ],
      "execution_count": 38,
      "outputs": [
        {
          "output_type": "stream",
          "text": [
            "{'Machine': 4, 'learning': 8, '(': 1, 'ML': 1, ')': 1, 'scientific': 1, 'study': 3, 'algorithms': 3, 'statistical': 1, 'models': 1, '\\n': 2, 'computer': 2, 'systems': 1, 'use': 1, 'progressively': 1, 'improve': 1, 'performance': 1, 'specific': 2, 'task': 3, '.': 7, 'build': 1, 'mathematical': 2, 'model': 1, 'sample': 1, 'data': 3, ',': 9, 'known': 1, '\"': 2, 'training': 1, 'order': 1, '\\n ': 4, 'predictions': 2, 'decisions': 1, 'explicitly': 1, 'programmed': 1, 'perform': 1, 'applications': 1, 'email': 1, 'filtering': 1, 'detection': 1, 'network': 1, 'intruders': 1, 'vision': 1, 'infeasible': 1, 'develop': 1, 'algorithm': 1, 'instructions': 1, 'performing': 1, 'closely': 1, 'related': 1, 'computational': 1, 'statistics': 1, 'focuses': 2, '\\n  ': 1, 'making': 1, 'computers': 1, 'The': 1, 'optimization': 1, 'delivers': 1, 'methods': 1, '\\n   ': 3, 'theory': 1, 'application': 2, 'domains': 1, 'field': 2, 'machine': 3, 'Data': 1, 'mining': 1, 'exploratory': 1, 'analysis': 1, 'unsupervised': 1, 'In': 1, 'business': 1, 'problems': 1, 'referred': 1, 'predictive': 1, 'analytics': 1}\n"
          ],
          "name": "stdout"
        }
      ]
    },
    {
      "cell_type": "markdown",
      "metadata": {
        "id": "Re7CaJFV9Fq9"
      },
      "source": [
        "**Maximum Word Frequency**\n",
        "\n",
        "Find the weighted frequency\n",
        "\n",
        "Each word over most occuring word\n",
        "\n",
        "Long sentence over short sentence"
      ]
    },
    {
      "cell_type": "code",
      "metadata": {
        "colab": {
          "base_uri": "https://localhost:8080/"
        },
        "id": "Uuotu38n8Z0Y",
        "outputId": "04c02d2c-53e5-47d7-b24b-63a0e73c77bf"
      },
      "source": [
        "max_freq = max(word_frequency.values())\n",
        "max_freq"
      ],
      "execution_count": 39,
      "outputs": [
        {
          "output_type": "execute_result",
          "data": {
            "text/plain": [
              "9"
            ]
          },
          "metadata": {
            "tags": []
          },
          "execution_count": 39
        }
      ]
    },
    {
      "cell_type": "code",
      "metadata": {
        "id": "EKGB_Sf1-a8a"
      },
      "source": [
        "# Normalize frequency\n",
        "for word in word_frequency.keys():\n",
        "  word_frequency[word] = word_frequency[word]/max_freq\n"
      ],
      "execution_count": 40,
      "outputs": []
    },
    {
      "cell_type": "markdown",
      "metadata": {
        "id": "yx9WRKkYBp_Q"
      },
      "source": [
        "**Word Frequency Distribution**"
      ]
    },
    {
      "cell_type": "code",
      "metadata": {
        "colab": {
          "base_uri": "https://localhost:8080/"
        },
        "id": "P48nNAeHAK-x",
        "outputId": "3afad737-df5e-474c-cd78-523124db8e05"
      },
      "source": [
        "print(word_frequency)"
      ],
      "execution_count": 41,
      "outputs": [
        {
          "output_type": "stream",
          "text": [
            "{'Machine': 0.4444444444444444, 'learning': 0.8888888888888888, '(': 0.1111111111111111, 'ML': 0.1111111111111111, ')': 0.1111111111111111, 'scientific': 0.1111111111111111, 'study': 0.3333333333333333, 'algorithms': 0.3333333333333333, 'statistical': 0.1111111111111111, 'models': 0.1111111111111111, '\\n': 0.2222222222222222, 'computer': 0.2222222222222222, 'systems': 0.1111111111111111, 'use': 0.1111111111111111, 'progressively': 0.1111111111111111, 'improve': 0.1111111111111111, 'performance': 0.1111111111111111, 'specific': 0.2222222222222222, 'task': 0.3333333333333333, '.': 0.7777777777777778, 'build': 0.1111111111111111, 'mathematical': 0.2222222222222222, 'model': 0.1111111111111111, 'sample': 0.1111111111111111, 'data': 0.3333333333333333, ',': 1.0, 'known': 0.1111111111111111, '\"': 0.2222222222222222, 'training': 0.1111111111111111, 'order': 0.1111111111111111, '\\n ': 0.4444444444444444, 'predictions': 0.2222222222222222, 'decisions': 0.1111111111111111, 'explicitly': 0.1111111111111111, 'programmed': 0.1111111111111111, 'perform': 0.1111111111111111, 'applications': 0.1111111111111111, 'email': 0.1111111111111111, 'filtering': 0.1111111111111111, 'detection': 0.1111111111111111, 'network': 0.1111111111111111, 'intruders': 0.1111111111111111, 'vision': 0.1111111111111111, 'infeasible': 0.1111111111111111, 'develop': 0.1111111111111111, 'algorithm': 0.1111111111111111, 'instructions': 0.1111111111111111, 'performing': 0.1111111111111111, 'closely': 0.1111111111111111, 'related': 0.1111111111111111, 'computational': 0.1111111111111111, 'statistics': 0.1111111111111111, 'focuses': 0.2222222222222222, '\\n  ': 0.1111111111111111, 'making': 0.1111111111111111, 'computers': 0.1111111111111111, 'The': 0.1111111111111111, 'optimization': 0.1111111111111111, 'delivers': 0.1111111111111111, 'methods': 0.1111111111111111, '\\n   ': 0.3333333333333333, 'theory': 0.1111111111111111, 'application': 0.2222222222222222, 'domains': 0.1111111111111111, 'field': 0.2222222222222222, 'machine': 0.3333333333333333, 'Data': 0.1111111111111111, 'mining': 0.1111111111111111, 'exploratory': 0.1111111111111111, 'analysis': 0.1111111111111111, 'unsupervised': 0.1111111111111111, 'In': 0.1111111111111111, 'business': 0.1111111111111111, 'problems': 0.1111111111111111, 'referred': 0.1111111111111111, 'predictive': 0.1111111111111111, 'analytics': 0.1111111111111111}\n"
          ],
          "name": "stdout"
        }
      ]
    },
    {
      "cell_type": "markdown",
      "metadata": {
        "id": "YvL3q4gcEDtm"
      },
      "source": [
        "**Sentence score and Ranking of Words in Each Sentences**\n",
        "\n",
        "Sentence Tokens\n",
        "\n",
        "scoring every sentence based on number of words\n",
        "\n",
        "non stopwords in our word frequency table\n"
      ]
    },
    {
      "cell_type": "code",
      "metadata": {
        "colab": {
          "base_uri": "https://localhost:8080/"
        },
        "id": "MEPcqGvvBx8X",
        "outputId": "da0960df-004e-4605-8560-e4e131d00fa2"
      },
      "source": [
        "# Sentence Tokens\n",
        "sentence_tokens = [sentence for sentence in docx.sents]\n",
        "print(sentence_tokens)"
      ],
      "execution_count": 42,
      "outputs": [
        {
          "output_type": "stream",
          "text": [
            "[Machine learning (ML) is the scientific study of algorithms and statistical models \n",
            ", that computer systems use to progressively improve their performance on a specific task., Machine \n",
            "learning algorithms build a mathematical model of sample data, known as \"training data\", in order\n",
            " to make predictions or decisions without being explicitly programmed to perform the task., Machine \n",
            " learning algorithms are used in the applications of email filtering, detection of network intruders, \n",
            " and computer vision, where it is infeasible to develop an algorithm of specific instructions for \n",
            " performing the task., Machine learning is closely related to computational statistics, which focuses\n",
            "  on making predictions using computers., The study of mathematical optimization delivers methods,\n",
            "   theory and application domains to the field of machine learning., Data mining is a field of study \n",
            "   within machine learning, and focuses on exploratory data analysis through unsupervised learning.\n",
            "   , In its application across business problems, machine learning is also referred to as predictive analytics.]\n"
          ],
          "name": "stdout"
        }
      ]
    },
    {
      "cell_type": "code",
      "metadata": {
        "id": "OO-sYcc2n5BQ"
      },
      "source": [
        "sentence_scores = {}\n",
        "for sent in sentence_tokens:\n",
        "  for word in sent:\n",
        "    if word.text.lower() in word_frequency.keys():\n",
        "      if sent not in sentence_scores.keys():\n",
        "        sentence_scores[sent] = word_frequency[word.text.lower()]\n",
        "      else:\n",
        "        sentence_scores[sent] += word_frequency[word.text.lower()]          "
      ],
      "execution_count": 43,
      "outputs": []
    },
    {
      "cell_type": "code",
      "metadata": {
        "colab": {
          "base_uri": "https://localhost:8080/"
        },
        "id": "2j8toIU2tC74",
        "outputId": "476f54a2-9a8f-412c-84d8-a82601598fcc"
      },
      "source": [
        "sentence_scores"
      ],
      "execution_count": 44,
      "outputs": [
        {
          "output_type": "execute_result",
          "data": {
            "text/plain": [
              "{Machine learning (ML) is the scientific study of algorithms and statistical models : 2.666666666666667,\n",
              " that computer systems use to progressively improve their performance on a specific task.: 2.111111111111111,\n",
              " Machine \n",
              " learning algorithms build a mathematical model of sample data, known as \"training data\", in order\n",
              "  to make predictions or decisions without being explicitly programmed to perform the task.: 7.999999999999997,\n",
              " Machine \n",
              "  learning algorithms are used in the applications of email filtering, detection of network intruders, \n",
              "  and computer vision, where it is infeasible to develop an algorithm of specific instructions for \n",
              "  performing the task.: 8.777777777777775,\n",
              " Machine learning is closely related to computational statistics, which focuses\n",
              "   on making predictions using computers.: 4.222222222222223,\n",
              " The study of mathematical optimization delivers methods,\n",
              "    theory and application domains to the field of machine learning.: 4.888888888888889,\n",
              " Data mining is a field of study \n",
              "    within machine learning, and focuses on exploratory data analysis through unsupervised learning.\n",
              "    : 6.444444444444443,\n",
              " In its application across business problems, machine learning is also referred to as predictive analytics.: 3.7777777777777777}"
            ]
          },
          "metadata": {
            "tags": []
          },
          "execution_count": 44
        }
      ]
    },
    {
      "cell_type": "markdown",
      "metadata": {
        "id": "UnQxjR2YtP8b"
      },
      "source": [
        "Now we are going to select 30% of the sentences having the largest scores. For this we are going to import nlargest from heapq."
      ]
    },
    {
      "cell_type": "code",
      "metadata": {
        "id": "Be3zNAhstVfr"
      },
      "source": [
        "from heapq import nlargest"
      ],
      "execution_count": 45,
      "outputs": []
    },
    {
      "cell_type": "markdown",
      "metadata": {
        "id": "CgilOciiuMzH"
      },
      "source": [
        "We want the length of summary to be 30% of the original length which is 4. Hence the summary will have 4 sentences."
      ]
    },
    {
      "cell_type": "code",
      "metadata": {
        "colab": {
          "base_uri": "https://localhost:8080/"
        },
        "id": "B6_i9YdluThQ",
        "outputId": "4173860c-63b3-4222-c2e7-7c7289e8ee8e"
      },
      "source": [
        "select_length = int(len(sentence_tokens)*0.3)\n",
        "select_length"
      ],
      "execution_count": 46,
      "outputs": [
        {
          "output_type": "execute_result",
          "data": {
            "text/plain": [
              "2"
            ]
          },
          "metadata": {
            "tags": []
          },
          "execution_count": 46
        }
      ]
    },
    {
      "cell_type": "code",
      "metadata": {
        "colab": {
          "base_uri": "https://localhost:8080/"
        },
        "id": "0iIKCzvJuPyf",
        "outputId": "873a9428-1302-4751-8e9e-45686854d0e2"
      },
      "source": [
        "summary = nlargest(select_length,sentence_scores,key=sentence_scores.get)\n",
        "summary"
      ],
      "execution_count": 47,
      "outputs": [
        {
          "output_type": "execute_result",
          "data": {
            "text/plain": [
              "[Machine \n",
              "  learning algorithms are used in the applications of email filtering, detection of network intruders, \n",
              "  and computer vision, where it is infeasible to develop an algorithm of specific instructions for \n",
              "  performing the task., Machine \n",
              " learning algorithms build a mathematical model of sample data, known as \"training data\", in order\n",
              "  to make predictions or decisions without being explicitly programmed to perform the task.]"
            ]
          },
          "metadata": {
            "tags": []
          },
          "execution_count": 47
        }
      ]
    },
    {
      "cell_type": "code",
      "metadata": {
        "id": "_not1OGGwYMz"
      },
      "source": [
        "final_summary = [word.text for word in summary]\n",
        "summary = \" \".join(final_summary)"
      ],
      "execution_count": 48,
      "outputs": []
    },
    {
      "cell_type": "code",
      "metadata": {
        "colab": {
          "base_uri": "https://localhost:8080/"
        },
        "id": "pVADcoAlzART",
        "outputId": "e2fd65d2-f50a-423c-85e9-7244a79daa26"
      },
      "source": [
        "print(text)"
      ],
      "execution_count": 54,
      "outputs": [
        {
          "output_type": "stream",
          "text": [
            "Machine learning (ML) is the scientific study of algorithms and statistical models \n",
            "that computer systems use to progressively improve their performance on a specific task. Machine \n",
            "learning algorithms build a mathematical model of sample data, known as \"training data\", in order\n",
            " to make predictions or decisions without being explicitly programmed to perform the task. Machine \n",
            " learning algorithms are used in the applications of email filtering, detection of network intruders, \n",
            " and computer vision, where it is infeasible to develop an algorithm of specific instructions for \n",
            " performing the task. Machine learning is closely related to computational statistics, which focuses\n",
            "  on making predictions using computers. The study of mathematical optimization delivers methods,\n",
            "   theory and application domains to the field of machine learning. Data mining is a field of study \n",
            "   within machine learning, and focuses on exploratory data analysis through unsupervised learning.\n",
            "   In its application across business problems, machine learning is also referred to as predictive analytics.\n"
          ],
          "name": "stdout"
        }
      ]
    },
    {
      "cell_type": "code",
      "metadata": {
        "colab": {
          "base_uri": "https://localhost:8080/"
        },
        "id": "-pNpJzq2wUiN",
        "outputId": "97aa4752-760a-49fc-f173-19b758ee522a"
      },
      "source": [
        "print(summary)"
      ],
      "execution_count": 58,
      "outputs": [
        {
          "output_type": "stream",
          "text": [
            "Machine \n",
            " learning algorithms are used in the applications of email filtering, detection of network intruders, \n",
            " and computer vision, where it is infeasible to develop an algorithm of specific instructions for \n",
            " performing the task. Machine \n",
            "learning algorithms build a mathematical model of sample data, known as \"training data\", in order\n",
            " to make predictions or decisions without being explicitly programmed to perform the task.\n"
          ],
          "name": "stdout"
        }
      ]
    },
    {
      "cell_type": "code",
      "metadata": {
        "colab": {
          "base_uri": "https://localhost:8080/"
        },
        "id": "LeJ1NxpuzkFy",
        "outputId": "2e6aafc4-06d5-4c70-8ba2-de4ee8174c13"
      },
      "source": [
        "len(text)"
      ],
      "execution_count": 59,
      "outputs": [
        {
          "output_type": "execute_result",
          "data": {
            "text/plain": [
              "1091"
            ]
          },
          "metadata": {
            "tags": []
          },
          "execution_count": 59
        }
      ]
    },
    {
      "cell_type": "code",
      "metadata": {
        "colab": {
          "base_uri": "https://localhost:8080/"
        },
        "id": "J-Hs4LEEznW9",
        "outputId": "951b6bf7-9b54-4f89-c788-b3cb55cc61e7"
      },
      "source": [
        "len(summary)"
      ],
      "execution_count": 60,
      "outputs": [
        {
          "output_type": "execute_result",
          "data": {
            "text/plain": [
              "430"
            ]
          },
          "metadata": {
            "tags": []
          },
          "execution_count": 60
        }
      ]
    }
  ]
}